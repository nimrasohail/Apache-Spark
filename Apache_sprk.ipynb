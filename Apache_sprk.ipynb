{
 "cells": [
  {
   "cell_type": "markdown",
   "metadata": {
    "application/vnd.databricks.v1+cell": {
     "cellMetadata": {},
     "inputWidgets": {},
     "nuid": "998874f6-f184-424a-82bc-95c959ac5de0",
     "showTitle": false,
     "title": ""
    }
   },
   "source": [
    "###"
   ]
  },
  {
   "cell_type": "code",
   "execution_count": 0,
   "metadata": {
    "application/vnd.databricks.v1+cell": {
     "cellMetadata": {
      "byteLimit": 2048000,
      "rowLimit": 10000
     },
     "inputWidgets": {},
     "nuid": "995767c2-8fbe-4a7d-80ac-3109c45de204",
     "showTitle": false,
     "title": ""
    }
   },
   "outputs": [],
   "source": [
    "from pyspark import SparkConf, SparkContext\n",
    "from pyspark.sql import SQLContext, SparkSession\n",
    "from pyspark.sql import SparkSession\n",
    "from pyspark.sql.types import StructType, StructField, StringType, FloatType\n",
    "from pyspark.sql import SparkSession\n",
    "from pyspark.sql.functions import desc\n",
    "#sc is the Spark Context already available at databricks, so we do not need to create it again.\n",
    "#sc = SparkContext()\n",
    "# sqlContext = SQLContext(sc)\n",
    "\n",
    "# from pyspark.sql import SparkSession\n",
    "sqlContext = SparkSession.builder.appName('abc').getOrCreate()"
   ]
  },
  {
   "cell_type": "markdown",
   "metadata": {
    "application/vnd.databricks.v1+cell": {
     "cellMetadata": {},
     "inputWidgets": {},
     "nuid": "c3a9cf52-e0a0-4905-bd93-ee21f3dd46ab",
     "showTitle": false,
     "title": ""
    }
   },
   "source": [
    "# Creating RDD (Resilient Distributed Dataset) - fundamental data structure of Spark"
   ]
  },
  {
   "cell_type": "code",
   "execution_count": 0,
   "metadata": {
    "application/vnd.databricks.v1+cell": {
     "cellMetadata": {
      "byteLimit": 2048000,
      "rowLimit": 10000
     },
     "inputWidgets": {},
     "nuid": "85a92d7d-862a-43da-a8e8-c1505a52225f",
     "showTitle": false,
     "title": ""
    }
   },
   "outputs": [],
   "source": [
    "products = sc.textFile(\"/FileStore/tables/SalesData_1.txt\")"
   ]
  },
  {
   "cell_type": "code",
   "execution_count": 0,
   "metadata": {
    "application/vnd.databricks.v1+cell": {
     "cellMetadata": {
      "byteLimit": 2048000,
      "rowLimit": 10000
     },
     "inputWidgets": {},
     "nuid": "2aa738f2-f4d1-4901-aad0-d5a8ee807c89",
     "showTitle": false,
     "title": ""
    }
   },
   "outputs": [
    {
     "output_type": "stream",
     "name": "stdout",
     "output_type": "stream",
     "text": [
      "Out[9]: 'ProductID\\tName\\tProductNumber\\tColor\\tStandardCost\\tListPrice\\tSize\\tWeight\\tProductCategoryID\\tProductModelID\\tSellStartDate\\tSellEndDate\\tDiscontinuedDate\\tThumbNailPhoto\\tThumbnailPhotoFileName\\trowguid\\tModifiedDate'"
     ]
    }
   ],
   "source": [
    "products.first()"
   ]
  },
  {
   "cell_type": "code",
   "execution_count": 0,
   "metadata": {
    "application/vnd.databricks.v1+cell": {
     "cellMetadata": {
      "byteLimit": 2048000,
      "rowLimit": 10000
     },
     "inputWidgets": {},
     "nuid": "1d226610-9a0e-4915-9861-82c2b2163b0c",
     "showTitle": false,
     "title": ""
    }
   },
   "outputs": [
    {
     "output_type": "stream",
     "name": "stdout",
     "output_type": "stream",
     "text": [
      "The data has 17 columns\nOut[10]: ['ProductID',\n 'Name',\n 'ProductNumber',\n 'Color',\n 'StandardCost',\n 'ListPrice',\n 'Size',\n 'Weight',\n 'ProductCategoryID',\n 'ProductModelID',\n 'SellStartDate',\n 'SellEndDate',\n 'DiscontinuedDate',\n 'ThumbNailPhoto',\n 'ThumbnailPhotoFileName',\n 'rowguid',\n 'ModifiedDate']"
     ]
    }
   ],
   "source": [
    "print(\"The data has {} columns\".format(len(products.first().split(\"\\t\"))))\n",
    "header = products.first().split(\"\\t\")\n",
    "header"
   ]
  },
  {
   "cell_type": "code",
   "execution_count": 0,
   "metadata": {
    "application/vnd.databricks.v1+cell": {
     "cellMetadata": {
      "byteLimit": 2048000,
      "rowLimit": 10000
     },
     "inputWidgets": {},
     "nuid": "ae301838-99e7-4a98-9531-f399521e6e46",
     "showTitle": false,
     "title": ""
    }
   },
   "outputs": [],
   "source": [
    "head = products.first()\n",
    "content = products.filter(lambda line: line != head)"
   ]
  },
  {
   "cell_type": "code",
   "execution_count": 0,
   "metadata": {
    "application/vnd.databricks.v1+cell": {
     "cellMetadata": {
      "byteLimit": 2048000,
      "rowLimit": 10000
     },
     "inputWidgets": {},
     "nuid": "b25629db-cfa9-4fd9-93fb-a1dc0fe5a044",
     "showTitle": false,
     "title": ""
    }
   },
   "outputs": [
    {
     "output_type": "stream",
     "name": "stdout",
     "output_type": "stream",
     "text": [
      "Out[12]: '680\\tHL Road Frame - Black, 58\\tFR-R92B-58\\tBlack\\t1059.31\\t1431.50\\t58\\t1016.04\\t18\\t6\\t1998-06-01 00:00:00.000\\tNULL\\tNULL\\t0x47494638396150003100F70000000000800000008000808000000080800080008080808080C0C0C0FF000000FF00FFFF000000FFFF00FF00FFFFFFFFFF000000000000000000000000000000000000000000000000000000000000000000000000000000000000000000000000000000000000000000000000000000000000\\tno_image_available_small.gif\\t43DD68D6-14A4-461F-9069-55309D90EA7E\\t2004-03-11 10:01:36.827'"
     ]
    }
   ],
   "source": [
    "content.first()"
   ]
  },
  {
   "cell_type": "code",
   "execution_count": 0,
   "metadata": {
    "application/vnd.databricks.v1+cell": {
     "cellMetadata": {
      "byteLimit": 2048000,
      "rowLimit": 10000
     },
     "inputWidgets": {},
     "nuid": "7c6477b3-ae17-40c9-ad94-e226c1d96a67",
     "showTitle": false,
     "title": ""
    }
   },
   "outputs": [
    {
     "output_type": "stream",
     "name": "stdout",
     "output_type": "stream",
     "text": [
      "Out[14]: 17"
     ]
    }
   ],
   "source": [
    "content.map(lambda line: len(line.split(\"\\t\"))).distinct().collect()[0]"
   ]
  },
  {
   "cell_type": "markdown",
   "metadata": {
    "application/vnd.databricks.v1+cell": {
     "cellMetadata": {},
     "inputWidgets": {},
     "nuid": "a3097865-16c7-4069-bf6b-b61d2a71ced9",
     "showTitle": false,
     "title": ""
    }
   },
   "source": [
    "# Example of RDD using Scala"
   ]
  },
  {
   "cell_type": "code",
   "execution_count": 0,
   "metadata": {
    "application/vnd.databricks.v1+cell": {
     "cellMetadata": {
      "byteLimit": 2048000,
      "rowLimit": 10000
     },
     "inputWidgets": {},
     "nuid": "fd3e1c26-ea05-4ffb-b91d-6ef5936864db",
     "showTitle": false,
     "title": ""
    }
   },
   "outputs": [
    {
     "output_type": "stream",
     "name": "stdout",
     "output_type": "stream",
     "text": [
      "Out[34]: [['680',\n  'HL Road Frame - Black, 58',\n  'FR-R92B-58',\n  'Black',\n  '1059.31',\n  '1431.50',\n  '58',\n  '1016.04',\n  '18',\n  '6',\n  '1998-06-01 00:00:00.000',\n  'NULL',\n  'NULL',\n  '0x47494638396150003100F70000000000800000008000808000000080800080008080808080C0C0C0FF000000FF00FFFF000000FFFF00FF00FFFFFFFFFF000000000000000000000000000000000000000000000000000000000000000000000000000000000000000000000000000000000000000000000000000000000000',\n  'no_image_available_small.gif',\n  '43DD68D6-14A4-461F-9069-55309D90EA7E',\n  '2004-03-11 10:01:36.827']]"
     ]
    }
   ],
   "source": [
    "rdd1 = (content.filter(lambda line: line.split(\"\\t\"))\n",
    " .map(lambda line: (line.split(\"\\t\")))\n",
    ")\n",
    "rdd1.take(1)"
   ]
  },
  {
   "cell_type": "markdown",
   "metadata": {
    "application/vnd.databricks.v1+cell": {
     "cellMetadata": {},
     "inputWidgets": {},
     "nuid": "a105419c-a4d8-4fee-a173-8a25b774998c",
     "showTitle": false,
     "title": ""
    }
   },
   "source": [
    "# Converting RDD into Spark Dataframe"
   ]
  },
  {
   "cell_type": "code",
   "execution_count": 0,
   "metadata": {
    "application/vnd.databricks.v1+cell": {
     "cellMetadata": {
      "byteLimit": 2048000,
      "rowLimit": 10000
     },
     "inputWidgets": {},
     "nuid": "9a3f50ec-faaf-4aae-975c-5eeb4b1f66d6",
     "showTitle": false,
     "title": ""
    }
   },
   "outputs": [
    {
     "output_type": "stream",
     "name": "stdout",
     "output_type": "stream",
     "text": [
      "+---------+--------------------+-------------+-----+------------+---------+----+-------+-----------------+--------------+--------------------+--------------------+----------------+--------------------+----------------------+--------------------+--------------------+\n|ProductID|                Name|ProductNumber|Color|StandardCost|ListPrice|Size| Weight|ProductCategoryID|ProductModelID|       SellStartDate|         SellEndDate|DiscontinuedDate|      ThumbNailPhoto|ThumbnailPhotoFileName|             rowguid|        ModifiedDate|\n+---------+--------------------+-------------+-----+------------+---------+----+-------+-----------------+--------------+--------------------+--------------------+----------------+--------------------+----------------------+--------------------+--------------------+\n|      680|HL Road Frame - B...|   FR-R92B-58|Black|     1059.31|  1431.50|  58|1016.04|               18|             6|1998-06-01 00:00:...|                NULL|            NULL|0x474946383961500...|  no_image_availabl...|43DD68D6-14A4-461...|2004-03-11 10:01:...|\n|      706|HL Road Frame - R...|   FR-R92R-58|  Red|     1059.31|  1431.50|  58|1016.04|               18|             6|1998-06-01 00:00:...|                NULL|            NULL|0x474946383961500...|  no_image_availabl...|9540FF17-2712-4C9...|2004-03-11 10:01:...|\n|      707|Sport-100 Helmet,...|    HL-U509-R|  Red|     13.0863|    34.99|NULL|   NULL|               35|            33|2001-07-01 00:00:...|                NULL|            NULL|0x474946383961500...|  no_image_availabl...|2E1EF41A-C08A-4FF...|2004-03-11 10:01:...|\n|      708|Sport-100 Helmet,...|      HL-U509|Black|     13.0863|    34.99|NULL|   NULL|               35|            33|2001-07-01 00:00:...|                NULL|            NULL|0x474946383961500...|  no_image_availabl...|A25A44FB-C2DE-426...|2004-03-11 10:01:...|\n|      709|Mountain Bike Soc...|    SO-B909-M|White|      3.3963|     9.50|   M|   NULL|               27|            18|2001-07-01 00:00:...|2002-06-30 00:00:...|            NULL|0x474946383961500...|  no_image_availabl...|18F95F47-1540-4E0...|2004-03-11 10:01:...|\n|      710|Mountain Bike Soc...|    SO-B909-L|White|      3.3963|     9.50|   L|   NULL|               27|            18|2001-07-01 00:00:...|2002-06-30 00:00:...|            NULL|0x474946383961500...|  no_image_availabl...|161C035E-21B3-4E1...|2004-03-11 10:01:...|\n|      711|Sport-100 Helmet,...|    HL-U509-B| Blue|     13.0863|    34.99|NULL|   NULL|               35|            33|2001-07-01 00:00:...|                NULL|            NULL|0x474946383961500...|  no_image_availabl...|FD7C0858-4179-48C...|2004-03-11 10:01:...|\n|      712|        AWC Logo Cap|      CA-1098|Multi|      6.9223|     8.99|NULL|   NULL|               23|             2|2001-07-01 00:00:...|                NULL|            NULL|0x474946383961500...|  no_image_availabl...|B9EDE243-A6F4-462...|2004-03-11 10:01:...|\n|      713|Long-Sleeve Logo ...|    LJ-0192-S|Multi|     38.4923|    49.99|   S|   NULL|               25|            11|2001-07-01 00:00:...|                NULL|            NULL|0x474946383961500...|  awc_jersey_male_s...|FD449C82-A259-4FA...|2004-03-11 10:01:...|\n|      714|Long-Sleeve Logo ...|    LJ-0192-M|Multi|     38.4923|    49.99|   M|   NULL|               25|            11|2001-07-01 00:00:...|                NULL|            NULL|0x474946383961500...|  awc_jersey_male_s...|6A290063-A0CF-432...|2004-03-11 10:01:...|\n|      715|Long-Sleeve Logo ...|    LJ-0192-L|Multi|     38.4923|    49.99|   L|   NULL|               25|            11|2001-07-01 00:00:...|                NULL|            NULL|0x474946383961500...|  awc_jersey_male_s...|34CF5EF5-C077-4EA...|2004-03-11 10:01:...|\n|      716|Long-Sleeve Logo ...|    LJ-0192-X|Multi|     38.4923|    49.99|  XL|   NULL|               25|            11|2001-07-01 00:00:...|                NULL|            NULL|0x474946383961500...|  awc_jersey_male_s...|6EC47EC9-C041-4DD...|2004-03-11 10:01:...|\n|      717|HL Road Frame - R...|   FR-R92R-62|  Red|    868.6342|  1431.50|  62|1043.26|               18|             6|2001-07-01 00:00:...|                NULL|            NULL|0x474946383961500...|  no_image_availabl...|052E4F8B-0A2A-46B...|2004-03-11 10:01:...|\n|      718|HL Road Frame - R...|   FR-R92R-44|  Red|    868.6342|  1431.50|  44| 961.61|               18|             6|2001-07-01 00:00:...|                NULL|            NULL|0x474946383961500...|  no_image_availabl...|A88D3B54-2CAE-43F...|2004-03-11 10:01:...|\n|      719|HL Road Frame - R...|   FR-R92R-48|  Red|    868.6342|  1431.50|  48| 979.75|               18|             6|2001-07-01 00:00:...|                NULL|            NULL|0x474946383961500...|  no_image_availabl...|07BEFC9A-7634-402...|2004-03-11 10:01:...|\n|      720|HL Road Frame - R...|   FR-R92R-52|  Red|    868.6342|  1431.50|  52| 997.90|               18|             6|2001-07-01 00:00:...|                NULL|            NULL|0x474946383961500...|  no_image_availabl...|FCFEA68F-310E-4E6...|2004-03-11 10:01:...|\n|      721|HL Road Frame - R...|   FR-R92R-56|  Red|    868.6342|  1431.50|  56|1016.04|               18|             6|2001-07-01 00:00:...|                NULL|            NULL|0x474946383961500...|  no_image_availabl...|56C85873-4993-41B...|2004-03-11 10:01:...|\n|      722|LL Road Frame - B...|   FR-R38B-58|Black|    204.6251|   337.22|  58|1115.83|               18|             9|2001-07-01 00:00:...|                NULL|            NULL|0x474946383961500...|  no_image_availabl...|2140F256-F705-4D6...|2004-03-11 10:01:...|\n|      723|LL Road Frame - B...|   FR-R38B-60|Black|    204.6251|   337.22|  60|1124.90|               18|             9|2001-07-01 00:00:...|                NULL|            NULL|0x474946383961500...|  no_image_availabl...|AA95E2A5-E7C4-4B7...|2004-03-11 10:01:...|\n|      724|LL Road Frame - B...|   FR-R38B-62|Black|    204.6251|   337.22|  62|1133.98|               18|             9|2001-07-01 00:00:...|                NULL|            NULL|0x474946383961500...|  no_image_availabl...|5247BE33-50BF-452...|2004-03-11 10:01:...|\n+---------+--------------------+-------------+-----+------------+---------+----+-------+-----------------+--------------+--------------------+--------------------+----------------+--------------------+----------------------+--------------------+--------------------+\nonly showing top 20 rows\n\n"
     ]
    }
   ],
   "source": [
    "df = rdd1.toDF(header)\n",
    "df.show()"
   ]
  },
  {
   "cell_type": "markdown",
   "metadata": {
    "application/vnd.databricks.v1+cell": {
     "cellMetadata": {},
     "inputWidgets": {},
     "nuid": "fb282bbf-f4b2-4299-9c07-9b978bce0169",
     "showTitle": false,
     "title": ""
    }
   },
   "source": [
    "# Using Spark Dataframe syntax and SQL Table syntax"
   ]
  },
  {
   "cell_type": "code",
   "execution_count": 0,
   "metadata": {
    "application/vnd.databricks.v1+cell": {
     "cellMetadata": {
      "byteLimit": 2048000,
      "rowLimit": 10000
     },
     "inputWidgets": {},
     "nuid": "fae7aa88-69b3-42fe-b863-c890bb7975eb",
     "showTitle": false,
     "title": ""
    }
   },
   "outputs": [
    {
     "output_type": "stream",
     "name": "stdout",
     "output_type": "stream",
     "text": [
      "+-------------------------+-------+\n|Name                     |Weight |\n+-------------------------+-------+\n|HL Road Frame - Black, 58|1016.04|\n|HL Road Frame - Red, 58  |1016.04|\n|Sport-100 Helmet, Red    |null   |\n|Sport-100 Helmet, Black  |null   |\n|Mountain Bike Socks, M   |null   |\n+-------------------------+-------+\nonly showing top 5 rows\n\n"
     ]
    }
   ],
   "source": [
    "# selecting two columns Name and Weight from original dataframe and convert into their proper datatype. Default is string\n",
    "df1 = df.select(df.Name, df.Weight.cast(\"float\"))\n",
    "df1.show(5, truncate=False)"
   ]
  },
  {
   "cell_type": "code",
   "execution_count": 0,
   "metadata": {
    "application/vnd.databricks.v1+cell": {
     "cellMetadata": {
      "byteLimit": 2048000,
      "rowLimit": 10000
     },
     "inputWidgets": {},
     "nuid": "ba37d163-0abd-47ac-a2dd-609382697ca7",
     "showTitle": false,
     "title": ""
    }
   },
   "outputs": [
    {
     "output_type": "stream",
     "name": "stdout",
     "output_type": "stream",
     "text": [
      "+-------------------------+-------+\n|Name                     |Weight |\n+-------------------------+-------+\n|HL Road Frame - Black, 58|1016.04|\n|HL Road Frame - Red, 58  |1016.04|\n|Sport-100 Helmet, Red    |null   |\n|Sport-100 Helmet, Black  |null   |\n|Mountain Bike Socks, M   |null   |\n+-------------------------+-------+\n\n"
     ]
    }
   ],
   "source": [
    "# convert the above Dataframe into SQL Table\n",
    "df1.createOrReplaceTempView(\"df_table\")\n",
    "sqlContext.sql(\" SELECT * FROM df_table limit 5\").show(truncate=False)"
   ]
  },
  {
   "cell_type": "markdown",
   "metadata": {
    "application/vnd.databricks.v1+cell": {
     "cellMetadata": {},
     "inputWidgets": {},
     "nuid": "69d4323b-c498-4abe-b321-1a62cd627ed8",
     "showTitle": false,
     "title": ""
    }
   },
   "source": [
    "# Write your solution for Spark Dataframe and Spark SQL. Your output should match with the RDD output"
   ]
  },
  {
   "cell_type": "markdown",
   "metadata": {
    "application/vnd.databricks.v1+cell": {
     "cellMetadata": {},
     "inputWidgets": {},
     "nuid": "6019e613-c169-4946-923d-2d87ba1ce274",
     "showTitle": false,
     "title": ""
    }
   },
   "source": [
    "## 1. Find the names and weight of the top 15 products by weight. Sort weight by descending order."
   ]
  },
  {
   "cell_type": "markdown",
   "metadata": {
    "application/vnd.databricks.v1+cell": {
     "cellMetadata": {},
     "inputWidgets": {},
     "nuid": "cf59b76e-c51a-4445-9d49-eb6dc0c6ad00",
     "showTitle": false,
     "title": ""
    }
   },
   "source": [
    "### Using RDD"
   ]
  },
  {
   "cell_type": "code",
   "execution_count": 0,
   "metadata": {
    "application/vnd.databricks.v1+cell": {
     "cellMetadata": {
      "byteLimit": 2048000,
      "rowLimit": 10000
     },
     "inputWidgets": {},
     "nuid": "728d67e4-bc29-4991-a999-154e1450fbf6",
     "showTitle": false,
     "title": ""
    }
   },
   "outputs": [
    {
     "output_type": "stream",
     "name": "stdout",
     "output_type": "stream",
     "text": [
      "Out[35]: [('Touring-3000 Blue, 62', 13607.7),\n ('Touring-3000 Yellow, 62', 13607.7),\n ('Touring-3000 Blue, 58', 13562.34),\n ('Touring-3000 Yellow, 58', 13512.45),\n ('Touring-3000 Blue, 54', 13462.55),\n ('Touring-3000 Yellow, 54', 13344.62),\n ('Touring-3000 Yellow, 50', 13213.08),\n ('Touring-3000 Blue, 50', 13213.08),\n ('Touring-3000 Yellow, 44', 13049.78),\n ('Touring-3000 Blue, 44', 13049.78),\n ('Mountain-500 Silver, 52', 13008.96),\n ('Mountain-500 Black, 52', 13008.96),\n ('Mountain-500 Silver, 48', 12891.03),\n ('Mountain-500 Black, 48', 12891.03),\n ('Mountain-500 Silver, 44', 12759.49)]"
     ]
    }
   ],
   "source": [
    "(content.filter(lambda line: line.split(\"\\t\")[7] != \"NULL\")\n",
    " .map(lambda line: (line.split(\"\\t\")[1], float(line.split(\"\\t\")[7])))\n",
    "                     .takeOrdered(15, lambda x : -x[1])\n",
    "                    )"
   ]
  },
  {
   "cell_type": "markdown",
   "metadata": {
    "application/vnd.databricks.v1+cell": {
     "cellMetadata": {},
     "inputWidgets": {},
     "nuid": "9908f57f-848d-49c8-a3c9-5040d1e35a32",
     "showTitle": false,
     "title": ""
    }
   },
   "source": [
    "### Using Spark DataFrame"
   ]
  },
  {
   "cell_type": "code",
   "execution_count": 0,
   "metadata": {
    "application/vnd.databricks.v1+cell": {
     "cellMetadata": {
      "byteLimit": 2048000,
      "rowLimit": 10000
     },
     "inputWidgets": {},
     "nuid": "16c097bd-6deb-4dd6-967c-98b4a32c89dd",
     "showTitle": false,
     "title": ""
    }
   },
   "outputs": [
    {
     "output_type": "stream",
     "name": "stdout",
     "output_type": "stream",
     "text": [
      "+-----------------------+--------+\n|Name                   |Weight  |\n+-----------------------+--------+\n|Touring-3000 Blue, 62  |13607.7 |\n|Touring-3000 Yellow, 62|13607.7 |\n|Touring-3000 Blue, 58  |13562.34|\n|Touring-3000 Yellow, 58|13512.45|\n|Touring-3000 Blue, 54  |13462.55|\n|Touring-3000 Yellow, 54|13344.62|\n|Touring-3000 Yellow, 50|13213.08|\n|Touring-3000 Blue, 50  |13213.08|\n|Touring-3000 Yellow, 44|13049.78|\n|Touring-3000 Blue, 44  |13049.78|\n|Mountain-500 Silver, 52|13008.96|\n|Mountain-500 Black, 52 |13008.96|\n|Mountain-500 Silver, 48|12891.03|\n|Mountain-500 Black, 48 |12891.03|\n|Mountain-500 Silver, 44|12759.49|\n+-----------------------+--------+\nonly showing top 15 rows\n\n"
     ]
    }
   ],
   "source": [
    "df = rdd1.toDF(header)\n",
    "df1 = df.select(df['Name'], df['Weight'].cast(\"float\"))\n",
    "\n",
    "sorted_df1 = df1.sort(desc('Weight'))\n",
    "\n",
    "# Displaying the DataFrame\n",
    "sorted_df1.show(15,truncate=False)\n"
   ]
  },
  {
   "cell_type": "markdown",
   "metadata": {
    "application/vnd.databricks.v1+cell": {
     "cellMetadata": {},
     "inputWidgets": {},
     "nuid": "d1aee5df-1ab5-4a8d-a36c-1ae78c3d1195",
     "showTitle": false,
     "title": ""
    }
   },
   "source": [
    "### Using Spark SQL"
   ]
  },
  {
   "cell_type": "code",
   "execution_count": 0,
   "metadata": {
    "application/vnd.databricks.v1+cell": {
     "cellMetadata": {
      "byteLimit": 2048000,
      "rowLimit": 10000
     },
     "inputWidgets": {},
     "nuid": "dc945e57-6428-4d09-b227-b875758c36f9",
     "showTitle": false,
     "title": ""
    }
   },
   "outputs": [
    {
     "output_type": "stream",
     "name": "stdout",
     "output_type": "stream",
     "text": [
      "+-----------------------+--------+\n|Name                   |Weight  |\n+-----------------------+--------+\n|Touring-3000 Yellow, 62|13607.7 |\n|Touring-3000 Blue, 62  |13607.7 |\n|Touring-3000 Blue, 58  |13562.34|\n|Touring-3000 Yellow, 58|13512.45|\n|Touring-3000 Blue, 54  |13462.55|\n|Touring-3000 Yellow, 54|13344.62|\n|Touring-3000 Yellow, 50|13213.08|\n|Touring-3000 Blue, 50  |13213.08|\n|Touring-3000 Yellow, 44|13049.78|\n|Touring-3000 Blue, 44  |13049.78|\n|Mountain-500 Silver, 52|13008.96|\n|Mountain-500 Black, 52 |13008.96|\n|Mountain-500 Silver, 48|12891.03|\n|Mountain-500 Black, 48 |12891.03|\n|Mountain-500 Silver, 44|12759.49|\n+-----------------------+--------+\n\n"
     ]
    }
   ],
   "source": [
    "df.createOrReplaceTempView(\"df_table\")\n",
    "sqlContext.sql(\"SELECT Name, CAST(Weight AS FLOAT) AS Weight FROM df_table ORDER BY Weight DESC limit 15 \").show(truncate=False)"
   ]
  },
  {
   "cell_type": "markdown",
   "metadata": {
    "application/vnd.databricks.v1+cell": {
     "cellMetadata": {},
     "inputWidgets": {},
     "nuid": "6a364981-2a82-4a66-940d-b62a3c2eabad",
     "showTitle": false,
     "title": ""
    }
   },
   "source": [
    "## 2. Retrieve product details (name, color, size, product model ID) for products where the product model ID is 5"
   ]
  },
  {
   "cell_type": "markdown",
   "metadata": {
    "application/vnd.databricks.v1+cell": {
     "cellMetadata": {},
     "inputWidgets": {},
     "nuid": "30dffc8a-4473-4429-83ba-4ce42cb63432",
     "showTitle": false,
     "title": ""
    }
   },
   "source": [
    "### Using RDD"
   ]
  },
  {
   "cell_type": "code",
   "execution_count": 0,
   "metadata": {
    "application/vnd.databricks.v1+cell": {
     "cellMetadata": {},
     "inputWidgets": {},
     "nuid": "b7f96168-273f-4786-8231-ee60b60aae89",
     "showTitle": false,
     "title": ""
    }
   },
   "outputs": [
    {
     "output_type": "display_data",
     "data": {
      "text/html": [
       "<style scoped>\n",
       "  .ansiout {\n",
       "    display: block;\n",
       "    unicode-bidi: embed;\n",
       "    white-space: pre-wrap;\n",
       "    word-wrap: break-word;\n",
       "    word-break: break-all;\n",
       "    font-family: \"Menlo\", \"Monaco\", \"Consolas\", \"Ubuntu Mono\", \"Source Code Pro\", monospace;\n",
       "    font-size: 13px;\n",
       "    color: #555;\n",
       "    margin-left: 4px;\n",
       "    line-height: 19px;\n",
       "  }\n",
       "</style>\n",
       "<div class=\"ansiout\">Out[48]: [(&#39;HL Mountain Frame - Silver, 42&#39;, &#39;Silver&#39;, &#39;42&#39;, &#39;5&#39;),\n",
       " (&#39;HL Mountain Frame - Silver, 44&#39;, &#39;Silver&#39;, &#39;44&#39;, &#39;5&#39;),\n",
       " (&#39;HL Mountain Frame - Silver, 48&#39;, &#39;Silver&#39;, &#39;48&#39;, &#39;5&#39;),\n",
       " (&#39;HL Mountain Frame - Silver, 46&#39;, &#39;Silver&#39;, &#39;46&#39;, &#39;5&#39;),\n",
       " (&#39;HL Mountain Frame - Black, 42&#39;, &#39;Black&#39;, &#39;42&#39;, &#39;5&#39;),\n",
       " (&#39;HL Mountain Frame - Black, 44&#39;, &#39;Black&#39;, &#39;44&#39;, &#39;5&#39;),\n",
       " (&#39;HL Mountain Frame - Black, 48&#39;, &#39;Black&#39;, &#39;48&#39;, &#39;5&#39;),\n",
       " (&#39;HL Mountain Frame - Black, 46&#39;, &#39;Black&#39;, &#39;46&#39;, &#39;5&#39;),\n",
       " (&#39;HL Mountain Frame - Black, 38&#39;, &#39;Black&#39;, &#39;38&#39;, &#39;5&#39;),\n",
       " (&#39;HL Mountain Frame - Silver, 38&#39;, &#39;Silver&#39;, &#39;38&#39;, &#39;5&#39;)]</div>"
      ]
     },
     "metadata": {
      "application/vnd.databricks.v1+output": {
       "addedWidgets": {},
       "arguments": {},
       "data": "<div class=\"ansiout\">Out[48]: [(&#39;HL Mountain Frame - Silver, 42&#39;, &#39;Silver&#39;, &#39;42&#39;, &#39;5&#39;),\n (&#39;HL Mountain Frame - Silver, 44&#39;, &#39;Silver&#39;, &#39;44&#39;, &#39;5&#39;),\n (&#39;HL Mountain Frame - Silver, 48&#39;, &#39;Silver&#39;, &#39;48&#39;, &#39;5&#39;),\n (&#39;HL Mountain Frame - Silver, 46&#39;, &#39;Silver&#39;, &#39;46&#39;, &#39;5&#39;),\n (&#39;HL Mountain Frame - Black, 42&#39;, &#39;Black&#39;, &#39;42&#39;, &#39;5&#39;),\n (&#39;HL Mountain Frame - Black, 44&#39;, &#39;Black&#39;, &#39;44&#39;, &#39;5&#39;),\n (&#39;HL Mountain Frame - Black, 48&#39;, &#39;Black&#39;, &#39;48&#39;, &#39;5&#39;),\n (&#39;HL Mountain Frame - Black, 46&#39;, &#39;Black&#39;, &#39;46&#39;, &#39;5&#39;),\n (&#39;HL Mountain Frame - Black, 38&#39;, &#39;Black&#39;, &#39;38&#39;, &#39;5&#39;),\n (&#39;HL Mountain Frame - Silver, 38&#39;, &#39;Silver&#39;, &#39;38&#39;, &#39;5&#39;)]</div>",
       "datasetInfos": [],
       "metadata": {},
       "removedWidgets": [],
       "type": "html"
      }
     },
     "output_type": "display_data"
    }
   ],
   "source": [
    "(content.filter(lambda line:line.split(\"\\t\")[9]==\"5\")\n",
    " .map(lambda line: (line.split(\"\\t\")[1],line.split(\"\\t\")[3], line.split(\"\\t\")[6], line.split(\"\\t\")[9])).collect()\n",
    ")"
   ]
  },
  {
   "cell_type": "markdown",
   "metadata": {
    "application/vnd.databricks.v1+cell": {
     "cellMetadata": {},
     "inputWidgets": {},
     "nuid": "4d8dabcd-bf51-4d10-96e6-71df3695d272",
     "showTitle": false,
     "title": ""
    }
   },
   "source": [
    "### Using Spark Dataframe"
   ]
  },
  {
   "cell_type": "code",
   "execution_count": 0,
   "metadata": {
    "application/vnd.databricks.v1+cell": {
     "cellMetadata": {
      "byteLimit": 2048000,
      "rowLimit": 10000
     },
     "inputWidgets": {},
     "nuid": "cdf6ee7e-f5b8-410f-b26f-eaeaff7d1c30",
     "showTitle": false,
     "title": ""
    }
   },
   "outputs": [
    {
     "output_type": "stream",
     "name": "stdout",
     "output_type": "stream",
     "text": [
      "+--------------------+------+----+--------------+\n|                Name| Color|Size|ProductModelID|\n+--------------------+------+----+--------------+\n|HL Mountain Frame...|Silver|  42|             5|\n|HL Mountain Frame...|Silver|  44|             5|\n|HL Mountain Frame...|Silver|  48|             5|\n|HL Mountain Frame...|Silver|  46|             5|\n|HL Mountain Frame...| Black|  42|             5|\n|HL Mountain Frame...| Black|  44|             5|\n|HL Mountain Frame...| Black|  48|             5|\n|HL Mountain Frame...| Black|  46|             5|\n|HL Mountain Frame...| Black|  38|             5|\n|HL Mountain Frame...|Silver|  38|             5|\n+--------------------+------+----+--------------+\n\n"
     ]
    }
   ],
   "source": [
    "df = rdd1.toDF(header)\n",
    "df1 = df.select(df['Name'], df['Color'], df['Size'], df['ProductModelID']).filter(df['ProductModelID'] == 5)\n",
    "df1.show()"
   ]
  },
  {
   "cell_type": "markdown",
   "metadata": {
    "application/vnd.databricks.v1+cell": {
     "cellMetadata": {},
     "inputWidgets": {},
     "nuid": "c961a430-7293-4f8d-b3f9-c4070c1e235e",
     "showTitle": false,
     "title": ""
    }
   },
   "source": [
    "### Using Spark SQL"
   ]
  },
  {
   "cell_type": "code",
   "execution_count": 0,
   "metadata": {
    "application/vnd.databricks.v1+cell": {
     "cellMetadata": {
      "byteLimit": 2048000,
      "rowLimit": 10000
     },
     "inputWidgets": {},
     "nuid": "4332a9af-30c6-4395-b25e-c6147aad93dd",
     "showTitle": false,
     "title": ""
    }
   },
   "outputs": [
    {
     "output_type": "stream",
     "name": "stdout",
     "output_type": "stream",
     "text": [
      "+------------------------------+------+----+--------------+\n|Name                          |Color |Size|ProductModelID|\n+------------------------------+------+----+--------------+\n|HL Mountain Frame - Silver, 42|Silver|42  |5             |\n|HL Mountain Frame - Silver, 44|Silver|44  |5             |\n|HL Mountain Frame - Silver, 48|Silver|48  |5             |\n|HL Mountain Frame - Silver, 46|Silver|46  |5             |\n|HL Mountain Frame - Black, 42 |Black |42  |5             |\n|HL Mountain Frame - Black, 44 |Black |44  |5             |\n|HL Mountain Frame - Black, 48 |Black |48  |5             |\n|HL Mountain Frame - Black, 46 |Black |46  |5             |\n|HL Mountain Frame - Black, 38 |Black |38  |5             |\n|HL Mountain Frame - Silver, 38|Silver|38  |5             |\n+------------------------------+------+----+--------------+\n\n"
     ]
    }
   ],
   "source": [
    "df.createOrReplaceTempView(\"df_table\")\n",
    "sqlContext.sql(\"SELECT Name, Color, Size, ProductModelID FROM df_table where ProductModelID= 5\").show(truncate=False)"
   ]
  },
  {
   "cell_type": "markdown",
   "metadata": {
    "application/vnd.databricks.v1+cell": {
     "cellMetadata": {},
     "inputWidgets": {},
     "nuid": "e3c9fc97-d853-479d-bbe2-134342535de9",
     "showTitle": false,
     "title": ""
    }
   },
   "source": [
    "## 3. Retrieve the name and product number of the products that have a color of 'black', 'red', or 'white' and a size of 'S' or 'M'"
   ]
  },
  {
   "cell_type": "markdown",
   "metadata": {
    "application/vnd.databricks.v1+cell": {
     "cellMetadata": {},
     "inputWidgets": {},
     "nuid": "31174ab6-690a-42de-becb-5452c1e902bf",
     "showTitle": false,
     "title": ""
    }
   },
   "source": [
    "### Using RDD"
   ]
  },
  {
   "cell_type": "code",
   "execution_count": 0,
   "metadata": {
    "application/vnd.databricks.v1+cell": {
     "cellMetadata": {},
     "inputWidgets": {},
     "nuid": "1b99ae62-4b55-4e7f-b27e-80f79909aeca",
     "showTitle": false,
     "title": ""
    }
   },
   "outputs": [
    {
     "output_type": "display_data",
     "data": {
      "text/html": [
       "<style scoped>\n",
       "  .ansiout {\n",
       "    display: block;\n",
       "    unicode-bidi: embed;\n",
       "    white-space: pre-wrap;\n",
       "    word-wrap: break-word;\n",
       "    word-break: break-all;\n",
       "    font-family: \"Menlo\", \"Monaco\", \"Consolas\", \"Ubuntu Mono\", \"Source Code Pro\", monospace;\n",
       "    font-size: 13px;\n",
       "    color: #555;\n",
       "    margin-left: 4px;\n",
       "    line-height: 19px;\n",
       "  }\n",
       "</style>\n",
       "<div class=\"ansiout\">Out[49]: [(&#39;Mountain Bike Socks, M&#39;, &#39;SO-B909-M&#39;, &#39;White&#39;, &#39;M&#39;),\n",
       " (&#34;Men&#39;s Sports Shorts, S&#34;, &#39;SH-M897-S&#39;, &#39;Black&#39;, &#39;S&#39;),\n",
       " (&#34;Men&#39;s Sports Shorts, M&#34;, &#39;SH-M897-M&#39;, &#39;Black&#39;, &#39;M&#39;),\n",
       " (&#34;Women&#39;s Tights, S&#34;, &#39;TG-W091-S&#39;, &#39;Black&#39;, &#39;S&#39;),\n",
       " (&#34;Women&#39;s Tights, M&#34;, &#39;TG-W091-M&#39;, &#39;Black&#39;, &#39;M&#39;),\n",
       " (&#39;Half-Finger Gloves, S&#39;, &#39;GL-H102-S&#39;, &#39;Black&#39;, &#39;S&#39;),\n",
       " (&#39;Half-Finger Gloves, M&#39;, &#39;GL-H102-M&#39;, &#39;Black&#39;, &#39;M&#39;),\n",
       " (&#39;Full-Finger Gloves, S&#39;, &#39;GL-F110-S&#39;, &#39;Black&#39;, &#39;S&#39;),\n",
       " (&#39;Full-Finger Gloves, M&#39;, &#39;GL-F110-M&#39;, &#39;Black&#39;, &#39;M&#39;),\n",
       " (&#34;Women&#39;s Mountain Shorts, S&#34;, &#39;SH-W890-S&#39;, &#39;Black&#39;, &#39;S&#39;),\n",
       " (&#34;Women&#39;s Mountain Shorts, M&#34;, &#39;SH-W890-M&#39;, &#39;Black&#39;, &#39;M&#39;),\n",
       " (&#39;Racing Socks, M&#39;, &#39;SO-R809-M&#39;, &#39;White&#39;, &#39;M&#39;)]</div>"
      ]
     },
     "metadata": {
      "application/vnd.databricks.v1+output": {
       "addedWidgets": {},
       "arguments": {},
       "data": "<div class=\"ansiout\">Out[49]: [(&#39;Mountain Bike Socks, M&#39;, &#39;SO-B909-M&#39;, &#39;White&#39;, &#39;M&#39;),\n (&#34;Men&#39;s Sports Shorts, S&#34;, &#39;SH-M897-S&#39;, &#39;Black&#39;, &#39;S&#39;),\n (&#34;Men&#39;s Sports Shorts, M&#34;, &#39;SH-M897-M&#39;, &#39;Black&#39;, &#39;M&#39;),\n (&#34;Women&#39;s Tights, S&#34;, &#39;TG-W091-S&#39;, &#39;Black&#39;, &#39;S&#39;),\n (&#34;Women&#39;s Tights, M&#34;, &#39;TG-W091-M&#39;, &#39;Black&#39;, &#39;M&#39;),\n (&#39;Half-Finger Gloves, S&#39;, &#39;GL-H102-S&#39;, &#39;Black&#39;, &#39;S&#39;),\n (&#39;Half-Finger Gloves, M&#39;, &#39;GL-H102-M&#39;, &#39;Black&#39;, &#39;M&#39;),\n (&#39;Full-Finger Gloves, S&#39;, &#39;GL-F110-S&#39;, &#39;Black&#39;, &#39;S&#39;),\n (&#39;Full-Finger Gloves, M&#39;, &#39;GL-F110-M&#39;, &#39;Black&#39;, &#39;M&#39;),\n (&#34;Women&#39;s Mountain Shorts, S&#34;, &#39;SH-W890-S&#39;, &#39;Black&#39;, &#39;S&#39;),\n (&#34;Women&#39;s Mountain Shorts, M&#34;, &#39;SH-W890-M&#39;, &#39;Black&#39;, &#39;M&#39;),\n (&#39;Racing Socks, M&#39;, &#39;SO-R809-M&#39;, &#39;White&#39;, &#39;M&#39;)]</div>",
       "datasetInfos": [],
       "metadata": {},
       "removedWidgets": [],
       "type": "html"
      }
     },
     "output_type": "display_data"
    }
   ],
   "source": [
    "colors = [\"White\",\"Black\",\"Red\"]\n",
    "sizes = [\"S\",\"M\"]\n",
    "\n",
    "(content.filter(lambda line: line.split(\"\\t\")[6] in sizes)\n",
    ".filter(lambda line: line.split(\"\\t\")[3] in colors)\n",
    ".map(lambda line: (line.split(\"\\t\")[1],line.split(\"\\t\")[2], line.split(\"\\t\")[3],line.split(\"\\t\")[6]))\n",
    " .collect()\n",
    ")"
   ]
  },
  {
   "cell_type": "markdown",
   "metadata": {
    "application/vnd.databricks.v1+cell": {
     "cellMetadata": {},
     "inputWidgets": {},
     "nuid": "895cbde1-b7ef-49fd-9c0f-696369f27128",
     "showTitle": false,
     "title": ""
    }
   },
   "source": [
    "### Using Spark Dataframe"
   ]
  },
  {
   "cell_type": "code",
   "execution_count": 0,
   "metadata": {
    "application/vnd.databricks.v1+cell": {
     "cellMetadata": {
      "byteLimit": 2048000,
      "rowLimit": 10000
     },
     "inputWidgets": {},
     "nuid": "17a831f7-0cb4-43f2-8bbb-77b1e035ade8",
     "showTitle": false,
     "title": ""
    }
   },
   "outputs": [
    {
     "output_type": "stream",
     "name": "stdout",
     "output_type": "stream",
     "text": [
      "+--------------------+-------------+-----+----+\n|                Name|ProductNumber|Color|Size|\n+--------------------+-------------+-----+----+\n|Mountain Bike Soc...|    SO-B909-M|White|   M|\n|Men's Sports Shor...|    SH-M897-S|Black|   S|\n|Men's Sports Shor...|    SH-M897-M|Black|   M|\n|   Women's Tights, S|    TG-W091-S|Black|   S|\n|   Women's Tights, M|    TG-W091-M|Black|   M|\n|Half-Finger Glove...|    GL-H102-S|Black|   S|\n|Half-Finger Glove...|    GL-H102-M|Black|   M|\n|Full-Finger Glove...|    GL-F110-S|Black|   S|\n|Full-Finger Glove...|    GL-F110-M|Black|   M|\n|Women's Mountain ...|    SH-W890-S|Black|   S|\n|Women's Mountain ...|    SH-W890-M|Black|   M|\n|     Racing Socks, M|    SO-R809-M|White|   M|\n+--------------------+-------------+-----+----+\n\n"
     ]
    }
   ],
   "source": [
    "df = rdd1.toDF(header)\n",
    "df1 = df.select('Name', 'ProductNumber','Color','Size').filter((df['Color'].isin(['Black', 'Red', 'White'])) & ((df['Size'] == 'S') | (df['Size'] == 'M')))\n",
    "df1.show()"
   ]
  },
  {
   "cell_type": "markdown",
   "metadata": {
    "application/vnd.databricks.v1+cell": {
     "cellMetadata": {},
     "inputWidgets": {},
     "nuid": "15ba2bdf-70ae-4dcf-b00a-fdd80f352e96",
     "showTitle": false,
     "title": ""
    }
   },
   "source": [
    "### Using Spark SQL"
   ]
  },
  {
   "cell_type": "code",
   "execution_count": 0,
   "metadata": {
    "application/vnd.databricks.v1+cell": {
     "cellMetadata": {
      "byteLimit": 2048000,
      "rowLimit": 10000
     },
     "inputWidgets": {},
     "nuid": "da3463c2-f9b1-480a-ab44-c69af4275b91",
     "showTitle": false,
     "title": ""
    }
   },
   "outputs": [
    {
     "output_type": "stream",
     "name": "stdout",
     "output_type": "stream",
     "text": [
      "+--------------------------+-------------+-----+----+\n|Name                      |ProductNumber|Color|Size|\n+--------------------------+-------------+-----+----+\n|Mountain Bike Socks, M    |SO-B909-M    |White|M   |\n|Men's Sports Shorts, S    |SH-M897-S    |Black|S   |\n|Men's Sports Shorts, M    |SH-M897-M    |Black|M   |\n|Women's Tights, S         |TG-W091-S    |Black|S   |\n|Women's Tights, M         |TG-W091-M    |Black|M   |\n|Half-Finger Gloves, S     |GL-H102-S    |Black|S   |\n|Half-Finger Gloves, M     |GL-H102-M    |Black|M   |\n|Full-Finger Gloves, S     |GL-F110-S    |Black|S   |\n|Full-Finger Gloves, M     |GL-F110-M    |Black|M   |\n|Women's Mountain Shorts, S|SH-W890-S    |Black|S   |\n|Women's Mountain Shorts, M|SH-W890-M    |Black|M   |\n|Racing Socks, M           |SO-R809-M    |White|M   |\n+--------------------------+-------------+-----+----+\n\n"
     ]
    }
   ],
   "source": [
    "df.createOrReplaceTempView(\"df_table\")\n",
    "sqlContext.sql(\"SELECT Name, ProductNumber, Color,Size FROM df_table where Color in ('Black', 'Red', 'White') and Size in ('M','S') \").show(truncate=False)"
   ]
  },
  {
   "cell_type": "markdown",
   "metadata": {
    "application/vnd.databricks.v1+cell": {
     "cellMetadata": {},
     "inputWidgets": {},
     "nuid": "3280d1e9-90e3-4a1b-9ceb-6283c93680a2",
     "showTitle": false,
     "title": ""
    }
   },
   "source": [
    "## 4. Retrieve the product name, product number, color and list price of products whose product number begins with 'BK-'. Retrieve only 15 records and Sort the price in descending order"
   ]
  },
  {
   "cell_type": "markdown",
   "metadata": {
    "application/vnd.databricks.v1+cell": {
     "cellMetadata": {},
     "inputWidgets": {},
     "nuid": "9f7884c4-f177-4bc9-ab8a-8512fdbc8c4f",
     "showTitle": false,
     "title": ""
    }
   },
   "source": [
    "### Using RDD"
   ]
  },
  {
   "cell_type": "code",
   "execution_count": 0,
   "metadata": {
    "application/vnd.databricks.v1+cell": {
     "cellMetadata": {
      "byteLimit": 2048000,
      "rowLimit": 10000
     },
     "inputWidgets": {},
     "nuid": "2f57b2b8-877f-4cd1-9a22-d0f6e450a175",
     "showTitle": false,
     "title": ""
    }
   },
   "outputs": [
    {
     "output_type": "stream",
     "name": "stdout",
     "output_type": "stream",
     "text": [
      "Out[100]: [('Road-150 Red, 62', 'BK-R93R-62', 'Red', 3578.27),\n ('Road-150 Red, 44', 'BK-R93R-44', 'Red', 3578.27),\n ('Road-150 Red, 48', 'BK-R93R-48', 'Red', 3578.27),\n ('Road-150 Red, 52', 'BK-R93R-52', 'Red', 3578.27),\n ('Road-150 Red, 56', 'BK-R93R-56', 'Red', 3578.27),\n ('Mountain-100 Silver, 38', 'BK-M82S-38', 'Silver', 3399.99),\n ('Mountain-100 Silver, 42', 'BK-M82S-42', 'Silver', 3399.99),\n ('Mountain-100 Silver, 44', 'BK-M82S-44', 'Silver', 3399.99),\n ('Mountain-100 Silver, 48', 'BK-M82S-48', 'Silver', 3399.99),\n ('Mountain-100 Black, 38', 'BK-M82B-38', 'Black', 3374.99),\n ('Mountain-100 Black, 42', 'BK-M82B-42', 'Black', 3374.99),\n ('Mountain-100 Black, 44', 'BK-M82B-44', 'Black', 3374.99),\n ('Mountain-100 Black, 48', 'BK-M82B-48', 'Black', 3374.99),\n ('Road-250 Red, 44', 'BK-R89R-44', 'Red', 2443.35),\n ('Road-250 Red, 48', 'BK-R89R-48', 'Red', 2443.35)]"
     ]
    }
   ],
   "source": [
    "(content.filter(lambda line: \"BK\" in line.split(\"\\t\")[2])\n",
    " .map(lambda line: (line.split(\"\\t\")[1], line.split(\"\\t\")[2], line.split(\"\\t\")[3], float(line.split(\"\\t\")[5])))\n",
    ".takeOrdered(15, lambda x: -x[3]))"
   ]
  },
  {
   "cell_type": "markdown",
   "metadata": {
    "application/vnd.databricks.v1+cell": {
     "cellMetadata": {},
     "inputWidgets": {},
     "nuid": "7215148c-38cc-4abf-a1a7-2cdaf49bd379",
     "showTitle": false,
     "title": ""
    }
   },
   "source": [
    "### Using Spark Dataframe"
   ]
  },
  {
   "cell_type": "code",
   "execution_count": 0,
   "metadata": {
    "application/vnd.databricks.v1+cell": {
     "cellMetadata": {
      "byteLimit": 2048000,
      "rowLimit": 10000
     },
     "inputWidgets": {},
     "nuid": "0c33ad13-fd2c-4b55-85cc-091d3a453573",
     "showTitle": false,
     "title": ""
    }
   },
   "outputs": [
    {
     "output_type": "stream",
     "name": "stdout",
     "output_type": "stream",
     "text": [
      "+-------------------------+-------------+------+---------+\n|Name                     |ProductNumber|Color |ListPrice|\n+-------------------------+-------------+------+---------+\n|Road-650 Black, 58       |BK-R50B-58   |Black |782.99   |\n|Road-650 Black, 62       |BK-R50B-62   |Black |782.99   |\n|Road-650 Red, 58         |BK-R50R-58   |Red   |782.99   |\n|Road-650 Red, 60         |BK-R50R-60   |Red   |782.99   |\n|Road-650 Red, 62         |BK-R50R-62   |Red   |782.99   |\n|Road-650 Red, 44         |BK-R50R-44   |Red   |782.99   |\n|Road-650 Red, 48         |BK-R50R-48   |Red   |782.99   |\n|Road-650 Red, 52         |BK-R50R-52   |Red   |782.99   |\n|Road-650 Black, 60       |BK-R50B-60   |Black |782.99   |\n|Road-650 Black, 44       |BK-R50B-44   |Black |782.99   |\n|Road-650 Black, 48       |BK-R50B-48   |Black |782.99   |\n|Road-650 Black, 52       |BK-R50B-52   |Black |782.99   |\n|Mountain-400-W Silver, 38|BK-M38S-38   |Silver|769.49   |\n|Mountain-400-W Silver, 40|BK-M38S-40   |Silver|769.49   |\n|Mountain-400-W Silver, 42|BK-M38S-42   |Silver|769.49   |\n+-------------------------+-------------+------+---------+\nonly showing top 15 rows\n\n"
     ]
    }
   ],
   "source": [
    "df = rdd1.toDF(header)\n",
    "df1 = df.select('Name', 'ProductNumber','Color','ListPrice').filter(df['ProductNumber'].startswith('BK'))\n",
    "df1.sort(desc('ListPrice')).show(15,truncate=False)"
   ]
  },
  {
   "cell_type": "markdown",
   "metadata": {
    "application/vnd.databricks.v1+cell": {
     "cellMetadata": {},
     "inputWidgets": {},
     "nuid": "6193a402-fe07-4770-92fa-51e26816d3b7",
     "showTitle": false,
     "title": ""
    }
   },
   "source": [
    "### Using Spark SQL"
   ]
  },
  {
   "cell_type": "code",
   "execution_count": 0,
   "metadata": {
    "application/vnd.databricks.v1+cell": {
     "cellMetadata": {
      "byteLimit": 2048000,
      "rowLimit": 10000
     },
     "inputWidgets": {},
     "nuid": "820deb27-888e-45b3-8ec2-e61a3dc1a14b",
     "showTitle": false,
     "title": ""
    }
   },
   "outputs": [
    {
     "output_type": "stream",
     "name": "stdout",
     "output_type": "stream",
     "text": [
      "+-------------------------+-------------+------+---------+\n|Name                     |ProductNumber|Color |ListPrice|\n+-------------------------+-------------+------+---------+\n|Road-650 Red, 52         |BK-R50R-52   |Red   |782.99   |\n|Road-650 Black, 58       |BK-R50B-58   |Black |782.99   |\n|Road-650 Red, 48         |BK-R50R-48   |Red   |782.99   |\n|Road-650 Red, 58         |BK-R50R-58   |Red   |782.99   |\n|Road-650 Red, 60         |BK-R50R-60   |Red   |782.99   |\n|Road-650 Red, 62         |BK-R50R-62   |Red   |782.99   |\n|Road-650 Red, 44         |BK-R50R-44   |Red   |782.99   |\n|Road-650 Black, 52       |BK-R50B-52   |Black |782.99   |\n|Road-650 Black, 60       |BK-R50B-60   |Black |782.99   |\n|Road-650 Black, 62       |BK-R50B-62   |Black |782.99   |\n|Road-650 Black, 44       |BK-R50B-44   |Black |782.99   |\n|Road-650 Black, 48       |BK-R50B-48   |Black |782.99   |\n|Mountain-400-W Silver, 38|BK-M38S-38   |Silver|769.49   |\n|Mountain-400-W Silver, 40|BK-M38S-40   |Silver|769.49   |\n|Mountain-400-W Silver, 42|BK-M38S-42   |Silver|769.49   |\n+-------------------------+-------------+------+---------+\n\n"
     ]
    }
   ],
   "source": [
    "df.createOrReplaceTempView(\"df_table\")\n",
    "sqlContext.sql(\" SELECT Name, ProductNumber, Color, ListPrice FROM df_table WHERE ProductNumber LIKE 'BK%' ORDER BY ListPrice DESC LIMIT 15 \").show(truncate=False)"
   ]
  },
  {
   "cell_type": "markdown",
   "metadata": {
    "application/vnd.databricks.v1+cell": {
     "cellMetadata": {},
     "inputWidgets": {},
     "nuid": "cec197c9-eb1f-4b42-976d-45c12a0c2cc3",
     "showTitle": false,
     "title": ""
    }
   },
   "source": [
    "## 5. Visualize Average List Price per Color and Average List Price per Size. Discuss/Explain your results."
   ]
  },
  {
   "cell_type": "code",
   "execution_count": 0,
   "metadata": {
    "application/vnd.databricks.v1+cell": {
     "cellMetadata": {
      "byteLimit": 2048000,
      "rowLimit": 10000
     },
     "inputWidgets": {},
     "nuid": "7214bde0-02aa-4fc6-b124-06f5a22bc5e5",
     "showTitle": false,
     "title": ""
    }
   },
   "outputs": [],
   "source": [
    "import pandas as pd\n",
    "import matplotlib\n",
    "import matplotlib.pyplot as plt\n",
    "from pyspark.sql import functions as F\n",
    "%matplotlib inline\n",
    "from pyspark.sql.functions import col, avg\n"
   ]
  },
  {
   "cell_type": "code",
   "execution_count": 0,
   "metadata": {
    "application/vnd.databricks.v1+cell": {
     "cellMetadata": {
      "byteLimit": 2048000,
      "rowLimit": 10000
     },
     "inputWidgets": {},
     "nuid": "ad7e9cf5-f424-4b09-af34-df53c021f43a",
     "showTitle": false,
     "title": ""
    }
   },
   "outputs": [
    {
     "output_type": "display_data",
     "data": {
      "image/png": "[encoded data removed]"
     },
     "metadata": {
      "application/vnd.databricks.v1+output": {
       "addedWidgets": {},
       "arguments": {},
       "data": "data:image/png;base64,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\n",
       "datasetInfos": [],
       "metadata": {},
       "removedWidgets": [],
       "type": "image"
      }
     },
     "output_type": "display_data"
    },
    {
     "output_type": "display_data",
     "data": {
      "image/png": "[encoded data removed]"
     },
     "metadata": {
      "application/vnd.databricks.v1+output": {
       "addedWidgets": {},
       "arguments": {},
       "data": "data:image/png;base64,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\n",
       "datasetInfos": [],
       "metadata": {},
       "removedWidgets": [],
       "type": "image"
      }
     },
     "output_type": "display_data"
    }
   ],
   "source": [
    "df = rdd1.toDF(header)\n",
    "average_price_per_color = (\n",
    "    df.groupBy('Color')\n",
    "    .agg(avg('ListPrice').alias('AverageListPrice'))\n",
    "    .orderBy('Color')\n",
    ")\n",
    "\n",
    "# Compute average list price per size\n",
    "average_price_per_size = (\n",
    "    df.groupBy('Size')\n",
    "    .agg(avg('ListPrice').alias('AverageListPrice'))\n",
    "    .orderBy('Size')\n",
    ")\n",
    "\n",
    "# Visualize Average List Price per Color\n",
    "colors = average_price_per_color.select('Color').rdd.flatMap(lambda x: x).collect()\n",
    "average_prices_color = average_price_per_color.select('AverageListPrice').rdd.flatMap(lambda x: x).collect()\n",
    "\n",
    "plt.figure(figsize=(10, 5))\n",
    "plt.bar(colors, average_prices_color, color='skyblue')\n",
    "plt.xlabel('Color')\n",
    "plt.ylabel('Average List Price')\n",
    "plt.title('Average List Price per Color')\n",
    "plt.show()\n",
    "\n",
    "# Visualize Average List Price per Size\n",
    "sizes = average_price_per_size.select('Size').rdd.flatMap(lambda x: x).collect()\n",
    "average_prices_size = average_price_per_size.select('AverageListPrice').rdd.flatMap(lambda x: x).collect()\n",
    "\n",
    "plt.figure(figsize=(10, 5))\n",
    "plt.bar(sizes, average_prices_size, color='lightgreen')\n",
    "plt.xlabel('Size')\n",
    "plt.ylabel('Average List Price')\n",
    "plt.title('Average List Price per Size')\n",
    "plt.show()\n",
    "#Explanatyion:\n",
    "# The visualizations of average list price per color and per size offer insightful perspectives into the pricing patterns of products in the dataset. Analyzing the average list prices across different colors reveals that products in 'Red' command the highest average list prices, followed closely by those in 'Silver'. Meanwhile, 'Blue' and 'Yellow' exhibit comparable average list prices, securing the third and fourth positions. Notably, products in 'Black' demonstrate a relatively lower average list price. Turning attention to average list prices per size, the findings highlight that products in sizes '56' and '38' emerge as frontrunners with the highest average list prices. Particularly, size '56' claims the top position with an average list price of approximately 2500 price units, closely trailed by size '38'. The analysis also underscores that other sizes exhibit comparatively lower average list prices. "
   ]
  },
  {
   "cell_type": "markdown",
   "metadata": {
    "application/vnd.databricks.v1+cell": {
     "cellMetadata": {},
     "inputWidgets": {},
     "nuid": "3c3731a0-f63d-46fe-87de-416efca7b8ae",
     "showTitle": false,
     "title": ""
    }
   },
   "source": [
    "## 5. Visualize Total Count per Size. Discuss/Explain your results."
   ]
  },
  {
   "cell_type": "code",
   "execution_count": 0,
   "metadata": {
    "application/vnd.databricks.v1+cell": {
     "cellMetadata": {
      "byteLimit": 2048000,
      "rowLimit": 10000
     },
     "inputWidgets": {},
     "nuid": "7d9e8ea0-b441-41c5-be1e-7b93801de3f5",
     "showTitle": false,
     "title": ""
    }
   },
   "outputs": [
    {
     "output_type": "display_data",
     "data": {
      "image/png": "[encoded data removed]"
     },
     "metadata": {
      "application/vnd.databricks.v1+output": {
       "addedWidgets": {},
       "arguments": {},
       "data": "data:image/png;base64,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\n",
       "datasetInfos": [],
       "metadata": {},
       "removedWidgets": [],
       "type": "image"
      }
     },
     "output_type": "display_data"
    }
   ],
   "source": [
    "total_count_per_size = (\n",
    "    df.groupBy('Size')\n",
    "    .count()\n",
    "    .orderBy('Size')\n",
    ")\n",
    "pd_total_count_per_size = total_count_per_size.toPandas()\n",
    "plt.figure(figsize=(10, 5))\n",
    "plt.bar(pd_total_count_per_size['Size'], pd_total_count_per_size['count'], color='skyblue')\n",
    "plt.xlabel('Size')\n",
    "plt.ylabel('Total Count')\n",
    "plt.title('Total Count per Size')\n",
    "plt.show()\n",
    "#Explanation:\n",
    "# The observation of the total count per size reveals intriguing insights into the dataset. Notably, the presence of the 'null' size with the highest total count suggests a substantial proportion of missing or null values in the size category. Disregarding these null values, the analysis underscores that size '44' takes the lead with the highest total count, followed by sizes '48', '52', and '58'. This information is valuable for understanding both the completeness of the dataset and the popularity of specific sizes."
   ]
  }
 ],
 "metadata": {
  "application/vnd.databricks.v1+notebook": {
   "dashboards": [],
   "language": "python",
   "notebookMetadata": {
    "pythonIndentUnit": 2
   },
   "notebookName": "HW14-Spark",
   "widgets": {}
  },
  "kernelspec": {
   "display_name": "Python 2",
   "language": "python",
   "name": "python2"
  },
  "language_info": {
   "codemirror_mode": {
    "name": "ipython",
    "version": 2
   },
   "file_extension": ".py",
   "mimetype": "text/x-python",
   "name": "python",
   "nbconvert_exporter": "python",
   "pygments_lexer": "ipython2",
   "version": "2.7.12"
  }
 },
 "nbformat": 4,
 "nbformat_minor": 0
}
